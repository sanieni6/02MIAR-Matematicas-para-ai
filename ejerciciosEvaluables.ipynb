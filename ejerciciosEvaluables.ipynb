{
 "cells": [
  {
   "cell_type": "markdown",
   "metadata": {},
   "source": [
    "# Ejercicios Evaluables\n",
    "\n",
    "## Master Universitario en Inteligencia Artificial\n",
    "## 02MIAR-Matematicas para la inteligencia artificial"
   ]
  },
  {
   "cell_type": "markdown",
   "metadata": {},
   "source": [
    "Nombre: Luis Enrique Sánchez Zamora\n",
    "\n",
    "repo: https://github.com/sanieni6/02MIAR-Matematicas-para-ai"
   ]
  },
  {
   "cell_type": "markdown",
   "metadata": {},
   "source": [
    "1. Tal y como ya hemos visto en clase, la variedad de herramientas proporcionadas por el\n",
    "´algebra lineal son cruciales para desarrollar y fundamentar las bases de una variedad de\n",
    "t´ecnicas relacionadas con el aprendizaje autom´atico. Con ella, podemos describir el proceso\n",
    "de propagaci´on hacia adelante en una red neuronal, identificar m´ınimos locales en funciones\n",
    "multivariables (crucial para el proceso de retropropagaci´on) o la descripci´on y empleo de\n",
    "m´etodos de reducci´on de la dimensionalidad, como el an´alisis de componentes principales\n",
    "(PCA), entre muchas otras aplicaciones.\n",
    "Cuando trabajamos en la pr´actica dentro de este ´ambito, la cantidad de datos que manejamos\n",
    "puede ser muy grande, por lo que es especialmente importante emplear algoritmos eficientes\n",
    "y optimizados para reducir el coste computacional en la medida de lo posible. Por todo ello,\n",
    "el objetivo de este ejercicio es el de ilustrar las diferentes alternativas que pueden existir\n",
    "para realizar un proceso relacionado con el ´algebra lineal y el impacto que puede tener cada\n",
    "variante en t´erminos del coste computacional del mismo. En este caso en particular, y a modo\n",
    "de ilustraci´on, nos centraremos en el c´alculo del determinante de una matriz."
   ]
  },
  {
   "cell_type": "markdown",
   "metadata": {},
   "source": [
    "a) [1 punto] Implementa una funci´on, determinante recursivo, que obtenga el deter-\n",
    "minante de una matriz cuadrada utilizando la definici´on recursiva de Laplace."
   ]
  },
  {
   "cell_type": "code",
   "execution_count": 4,
   "metadata": {},
   "outputs": [],
   "source": [
    "import numpy as np"
   ]
  },
  {
   "cell_type": "code",
   "execution_count": 3,
   "metadata": {},
   "outputs": [
    {
     "name": "stdout",
     "output_type": "stream",
     "text": [
      "Determinante recursivo:  6\n"
     ]
    }
   ],
   "source": [
    "def determinante_recursivo(matrix):\n",
    "    n = len(matrix)\n",
    "\n",
    "    if n == 1:\n",
    "        return matrix[0][0]  # Caso base\n",
    "    if n == 2:\n",
    "        return matrix[0][0]*matrix[1][1] - matrix[0][1]*matrix[1][0]  # Caso 2x2\n",
    "\n",
    "    det = 0\n",
    "    for c in range(n):\n",
    "        submatrix = [row[:c] + row[c+1:] for row in matrix[1:]]  # Eliminar fila 0 y columna c\n",
    "        sign = (-1) ** c  # Signo alternante\n",
    "        det += sign * matrix[0][c] * determinante_recursivo(submatrix)  # Definición de Laplace\n",
    "    return det\n",
    "\n",
    "print( 'Determinante recursivo: ', determinante_recursivo([[1, 3, 3], [4, 5, 6], [7, 8, 9]]))"
   ]
  },
  {
   "cell_type": "markdown",
   "metadata": {},
   "source": [
    "b) [0.5 puntos] Si A es una matriz cuadrada n×n y triangular (superior o inferior, es decir,\n",
    "con entradas nulas por debajo o por encima de la diagonal, respectivamente), ¿existe\n",
    "alguna forma de calcular de forma directa y sencilla su determinante? Justif´ıquese la\n",
    "respuesta."
   ]
  },
  {
   "cell_type": "markdown",
   "metadata": {},
   "source": [
    "Si una matriz cuadrada es triangular (superior o inferior), su determinante es el producto de los elementos de la diagonal principal."
   ]
  },
  {
   "cell_type": "markdown",
   "metadata": {},
   "source": [
    "$$\n",
    "A = \\begin{bmatrix}\n",
    "2 & 3 & 1 \\\\\n",
    "0 & 5 & 4 \\\\\n",
    "0 & 0 & 7\n",
    "\\end{bmatrix}\n",
    "\\Rightarrow \\text{det}(A) = 2 \\cdot 5 \\cdot 7 = 70\n",
    "$$"
   ]
  },
  {
   "cell_type": "code",
   "execution_count": 5,
   "metadata": {},
   "outputs": [
    {
     "name": "stdout",
     "output_type": "stream",
     "text": [
      "70\n"
     ]
    }
   ],
   "source": [
    "A = np.array([\n",
    "    [2, 3, 1],\n",
    "    [0, 5, 4],\n",
    "    [0, 0, 7]\n",
    "])\n",
    "print(np.prod(np.diag(A)))  # Producto de la diagonal"
   ]
  },
  {
   "cell_type": "markdown",
   "metadata": {},
   "source": [
    "## c) [0.5 puntos] Determínese de forma justificada cómo alteran el determinante de una\n",
    "matriz n×n las dos operaciones elementales siguientes:"
   ]
  },
  {
   "cell_type": "markdown",
   "metadata": {},
   "source": [
    "### Intercambiar una fila (o columna) por otra fila (o columna).\n",
    "\n",
    "cambia el signo del determinante.\n",
    "\n",
    "Sea la matriz original:\n",
    "$$\n",
    "A =\n",
    "\\begin{bmatrix}\n",
    "1 & 2 & 3 \\\\\n",
    "0 & 4 & 5 \\\\\n",
    "1 & 0 & 6\n",
    "\\end{bmatrix}\n",
    "$$\n",
    "El determinante de A es:\n",
    "$$\n",
    "\\text{det}(A) = 1 \\cdot (4 \\cdot 6 - 5 \\cdot 0) - 2 \\cdot (0 \\cdot 6 - 5 \\cdot 1) + 3 \\cdot (0 \\cdot 0 - 4 \\cdot 1) = 24 + 10 - 12 = 22\n",
    "$$\n",
    "\n",
    "1. Intercambio de dos filas (F1 ⟷ F3):\n",
    "$$\n",
    "A’ =\n",
    "\\begin{bmatrix}\n",
    "1 & 0 & 6 \\\\\n",
    "0 & 4 & 5 \\\\\n",
    "1 & 2 & 3\n",
    "\\end{bmatrix}\n",
    "\\Rightarrow \\text{det}(A’) = -\\text{det}(A) = -22\n",
    "$$\n",
    "\n",
    "✅ Cambiar dos filas invierte el signo del determinante."
   ]
  },
  {
   "cell_type": "markdown",
   "metadata": {},
   "source": [
    "### Sumar a una fila (o columna) otra fila (o columna) multiplicada por un escalar α.\n",
    "(F3 ← F3 + 2×F1)\n",
    "\n",
    "$$\n",
    "A’’ =\n",
    "\\begin{bmatrix}\n",
    "1 & 2 & 3 \\\\\n",
    "0 & 4 & 5 \\\\\n",
    "1 + 2\\cdot1 & 0 + 2\\cdot2 & 6 + 2\\cdot3\n",
    "\\end{bmatrix}\n",
    "\n",
    "\\begin{bmatrix}\n",
    "1 & 2 & 3 \\\\\n",
    "0 & 4 & 5 \\\\\n",
    "3 & 4 & 12\n",
    "\\end{bmatrix}\n",
    "$$\n",
    "\n",
    "$$\n",
    "\\text{det}(A’’) = \\text{det}(A) = 22\n",
    "$$\n",
    "\n",
    "✅ Sumar una fila escalada a otra no cambia el determinante."
   ]
  },
  {
   "cell_type": "markdown",
   "metadata": {},
   "source": [
    "## d ) [1 punto] Investiga sobre el método de eliminación de Gauss con pivoteo parcial e impleméntalo para escalonar una matriz (es decir, convertirla en una matriz triangular inferior) a partir de las operaciones elementales descritas en el apartado anterior. "
   ]
  },
  {
   "cell_type": "code",
   "execution_count": 7,
   "metadata": {},
   "outputs": [
    {
     "name": "stdout",
     "output_type": "stream",
     "text": [
      "[[7.         8.         9.        ]\n",
      " [0.         1.85714286 1.71428571]\n",
      " [0.         0.         0.46153846]]\n"
     ]
    }
   ],
   "source": [
    "def gauss_pivoteo(A):\n",
    "    # Convertir a array de NumPy primero\n",
    "    A = np.array(A, dtype=float)\n",
    "    n = len(A)\n",
    "\n",
    "    for i in range(n):\n",
    "        # Pivoteo parcial\n",
    "        max_row = np.argmax(np.abs(A[i:, i])) + i\n",
    "        if i != max_row:\n",
    "            A[[i, max_row]] = A[[max_row, i]]\n",
    "\n",
    "        for j in range(i+1, n):\n",
    "            factor = A[j, i] / A[i, i]\n",
    "            A[j, i:] -= factor * A[i, i:]\n",
    "    return A\n",
    "\n",
    "print(gauss_pivoteo([[1, 3, 3], [4, 5, 6], [7, 8, 9]]))"
   ]
  },
  {
   "cell_type": "markdown",
   "metadata": {},
   "source": [
    "## e) [0.5 puntos] ¿Cómo se podría calcular el determinante de una matriz haciendo beneficio de la estrategia anterior y del efecto de aplicar las operaciones elementales pertinentes? Implementa una nueva función, determinante gauss, que calcule el determinante de una matriz utilizando eliminación gaussiana.\n"
   ]
  },
  {
   "cell_type": "code",
   "execution_count": 10,
   "metadata": {},
   "outputs": [
    {
     "name": "stdout",
     "output_type": "stream",
     "text": [
      "6.0000000000000036\n",
      "6\n",
      "6.0000000000000036\n"
     ]
    }
   ],
   "source": [
    "def determinante_gauss(A):\n",
    "    # Convertir a array de NumPy primero\n",
    "    A = np.array(A, dtype=float)\n",
    "    n = len(A)\n",
    "    sign = 1\n",
    "\n",
    "    for i in range(n):\n",
    "        max_row = np.argmax(np.abs(A[i:, i])) + i\n",
    "        if i != max_row:\n",
    "            A[[i, max_row]] = A[[max_row, i]]\n",
    "            sign *= -1\n",
    "\n",
    "        for j in range(i+1, n):\n",
    "            factor = A[j, i] / A[i, i]\n",
    "            A[j, i:] -= factor * A[i, i:]\n",
    "\n",
    "    return sign * np.prod(np.diag(A))\n",
    "\n",
    "print(determinante_gauss([[1, 3, 3], [4, 5, 6], [7, 8, 9]]))\n",
    "\n",
    "# usemos los metodos anteriores para comprobar que el resultado es el mismo\n",
    "print(determinante_recursivo([[1, 3, 3], [4, 5, 6], [7, 8, 9]]))\n",
    "print(determinante_gauss([[1, 3, 3], [4, 5, 6], [7, 8, 9]]))"
   ]
  },
  {
   "cell_type": "markdown",
   "metadata": {},
   "source": [
    "## f ) [0.5 puntos] Obtén la complejidad computacional asociada al cálculo del determinante con la definición recursiva y con el método de eliminación de Gauss con pivoteo parcial."
   ]
  },
  {
   "cell_type": "markdown",
   "metadata": {},
   "source": [
    "### 1. Complejidad del determinante recursivo (Laplace)\n",
    "\n",
    "La definición de Laplace se basa en una expansión recursiva: para calcular el determinante de una matriz de tamaño $n \\times n$, se necesita calcular $n$ determinantes de tamaño $(n-1) \\times (n-1)$, y así sucesivamente.\n",
    "\n",
    "Esto genera un árbol de llamadas recursivas que crece exponencialmente.\n",
    "\n",
    "- Número de operaciones\n",
    "\n",
    "El número de llamadas recursivas sigue aproximadamente el patrón:\n",
    "\n",
    "$$\n",
    "T(n) = n \\cdot T(n-1)\n",
    "\\Rightarrow T(n) = n!\n",
    "$$\n",
    "\n",
    "- Complejidad temporal\n",
    "\n",
    "$$\n",
    "\\boxed{\\mathcal{O}(n!)}\n",
    "$$"
   ]
  },
  {
   "cell_type": "markdown",
   "metadata": {},
   "source": [
    "### 2. Complejidad del método de eliminación de Gauss con pivoteo parcial\n",
    "\n",
    "La eliminación de Gauss realiza:\n",
    "- $n-1$ pasos de eliminación,\n",
    "- y en cada paso se realizan hasta $(n-i) \\cdot (n-i)$ operaciones (bucle doble sobre submatriz).\n",
    "\n",
    "El número total de operaciones es aproximadamente:\n",
    "\n",
    "$$\n",
    "\\sum_{k=1}^{n} k^2 \\in \\mathcal{O}(n^3)\n",
    "$$\n",
    "\n",
    "- Complejidad temporal\n",
    "\n",
    "$$\n",
    "\\boxed{\\mathcal{O}(n^3)}\n",
    "$$"
   ]
  },
  {
   "cell_type": "markdown",
   "metadata": {},
   "source": [
    "## g ) [1 punto] Utilizando numpy.random.rand, genera matrices cuadradas aleatorias de la forma $A_n \\in \\mathbb{R}^{n \\times n}$, para $2 \\leq n \\leq 10$, y confecciona una tabla comparativa del tiempo de ejecución asociado a cada una de las variantes siguientes, interpretando los resultados:\n",
    "- Utilizando determinante recursivo.\n",
    "- Empleando determinante gauss.\n",
    "- Haciendo uso de la funci´on preprogramada numpy.linalg.det.\n"
   ]
  },
  {
   "cell_type": "code",
   "execution_count": 12,
   "metadata": {},
   "outputs": [
    {
     "data": {
      "text/html": [
       "<div>\n",
       "<style scoped>\n",
       "    .dataframe tbody tr th:only-of-type {\n",
       "        vertical-align: middle;\n",
       "    }\n",
       "\n",
       "    .dataframe tbody tr th {\n",
       "        vertical-align: top;\n",
       "    }\n",
       "\n",
       "    .dataframe thead th {\n",
       "        text-align: right;\n",
       "    }\n",
       "</style>\n",
       "<table border=\"1\" class=\"dataframe\">\n",
       "  <thead>\n",
       "    <tr style=\"text-align: right;\">\n",
       "      <th></th>\n",
       "      <th>n</th>\n",
       "      <th>Recursivo</th>\n",
       "      <th>Gauss</th>\n",
       "      <th>NumPy</th>\n",
       "    </tr>\n",
       "  </thead>\n",
       "  <tbody>\n",
       "    <tr>\n",
       "      <th>0</th>\n",
       "      <td>2</td>\n",
       "      <td>0.000003</td>\n",
       "      <td>0.000041</td>\n",
       "      <td>0.000013</td>\n",
       "    </tr>\n",
       "    <tr>\n",
       "      <th>1</th>\n",
       "      <td>3</td>\n",
       "      <td>0.000004</td>\n",
       "      <td>0.000013</td>\n",
       "      <td>0.000004</td>\n",
       "    </tr>\n",
       "    <tr>\n",
       "      <th>2</th>\n",
       "      <td>4</td>\n",
       "      <td>0.000009</td>\n",
       "      <td>0.000013</td>\n",
       "      <td>0.000003</td>\n",
       "    </tr>\n",
       "    <tr>\n",
       "      <th>3</th>\n",
       "      <td>5</td>\n",
       "      <td>0.000036</td>\n",
       "      <td>0.000031</td>\n",
       "      <td>0.000003</td>\n",
       "    </tr>\n",
       "    <tr>\n",
       "      <th>4</th>\n",
       "      <td>6</td>\n",
       "      <td>0.000201</td>\n",
       "      <td>0.000026</td>\n",
       "      <td>0.000002</td>\n",
       "    </tr>\n",
       "    <tr>\n",
       "      <th>5</th>\n",
       "      <td>7</td>\n",
       "      <td>NaN</td>\n",
       "      <td>0.000035</td>\n",
       "      <td>0.000003</td>\n",
       "    </tr>\n",
       "    <tr>\n",
       "      <th>6</th>\n",
       "      <td>8</td>\n",
       "      <td>NaN</td>\n",
       "      <td>0.000043</td>\n",
       "      <td>0.000003</td>\n",
       "    </tr>\n",
       "    <tr>\n",
       "      <th>7</th>\n",
       "      <td>9</td>\n",
       "      <td>NaN</td>\n",
       "      <td>0.000050</td>\n",
       "      <td>0.000002</td>\n",
       "    </tr>\n",
       "    <tr>\n",
       "      <th>8</th>\n",
       "      <td>10</td>\n",
       "      <td>NaN</td>\n",
       "      <td>0.000055</td>\n",
       "      <td>0.000003</td>\n",
       "    </tr>\n",
       "  </tbody>\n",
       "</table>\n",
       "</div>"
      ],
      "text/plain": [
       "    n  Recursivo     Gauss     NumPy\n",
       "0   2   0.000003  0.000041  0.000013\n",
       "1   3   0.000004  0.000013  0.000004\n",
       "2   4   0.000009  0.000013  0.000003\n",
       "3   5   0.000036  0.000031  0.000003\n",
       "4   6   0.000201  0.000026  0.000002\n",
       "5   7        NaN  0.000035  0.000003\n",
       "6   8        NaN  0.000043  0.000003\n",
       "7   9        NaN  0.000050  0.000002\n",
       "8  10        NaN  0.000055  0.000003"
      ]
     },
     "metadata": {},
     "output_type": "display_data"
    },
    {
     "data": {
      "image/png": "[encoded data removed]",
      "text/plain": [
       "<Figure size 1000x600 with 1 Axes>"
      ]
     },
     "metadata": {},
     "output_type": "display_data"
    }
   ],
   "source": [
    "import numpy as np\n",
    "import pandas as pd\n",
    "import time\n",
    "import matplotlib.pyplot as plt\n",
    "\n",
    "# ---------- Comparación de tiempos ----------\n",
    "sizes = list(range(2, 11))  # Matrices de 2x2 a 10x10\n",
    "resultados = []\n",
    "\n",
    "for n in sizes:\n",
    "    A = np.random.rand(n, n)\n",
    "    fila = {\"n\": n}\n",
    "\n",
    "    # Método recursivo (solo hasta n = 6)\n",
    "    if n <= 6:\n",
    "        start = time.perf_counter()\n",
    "        _ = determinante_recursivo(A.tolist())\n",
    "        fila[\"Recursivo\"] = time.perf_counter() - start\n",
    "    else:\n",
    "        fila[\"Recursivo\"] = None\n",
    "\n",
    "    # Método de Gauss\n",
    "    start = time.perf_counter()\n",
    "    _ = determinante_gauss(A)\n",
    "    fila[\"Gauss\"] = time.perf_counter() - start\n",
    "\n",
    "    # Método NumPy\n",
    "    start = time.perf_counter()\n",
    "    _ = np.linalg.det(A)\n",
    "    fila[\"NumPy\"] = time.perf_counter() - start\n",
    "\n",
    "    resultados.append(fila)\n",
    "\n",
    "# Crear DataFrame\n",
    "df_tiempos = pd.DataFrame(resultados)\n",
    "display(df_tiempos)\n",
    "\n",
    "# ---------- Gráfico comparativo ----------\n",
    "\n",
    "plt.figure(figsize=(10, 6))\n",
    "plt.plot(df_tiempos[\"n\"], df_tiempos[\"Recursivo\"], marker='o', label=\"Recursivo (Laplace)\")\n",
    "plt.plot(df_tiempos[\"n\"], df_tiempos[\"Gauss\"], marker='o', label=\"Gauss\")\n",
    "plt.plot(df_tiempos[\"n\"], df_tiempos[\"NumPy\"], marker='o', label=\"NumPy\")\n",
    "plt.xlabel(\"Tamaño de matriz (n x n)\")\n",
    "plt.ylabel(\"Tiempo de ejecución (segundos)\")\n",
    "plt.title(\"Comparación de tiempos de cálculo del determinante\")\n",
    "plt.legend()\n",
    "plt.grid(True)\n",
    "plt.tight_layout()\n",
    "plt.show()"
   ]
  }
 ],
 "metadata": {
  "kernelspec": {
   "display_name": "viuenv",
   "language": "python",
   "name": "python3"
  },
  "language_info": {
   "codemirror_mode": {
    "name": "ipython",
    "version": 3
   },
   "file_extension": ".py",
   "mimetype": "text/x-python",
   "name": "python",
   "nbconvert_exporter": "python",
   "pygments_lexer": "ipython3",
   "version": "3.11.8"
  }
 },
 "nbformat": 4,
 "nbformat_minor": 2
}
